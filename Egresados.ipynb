{
  "nbformat": 4,
  "nbformat_minor": 0,
  "metadata": {
    "colab": {
      "name": "Egresados.ipynb",
      "version": "0.3.2",
      "provenance": [],
      "collapsed_sections": [],
      "include_colab_link": true
    },
    "kernelspec": {
      "name": "python3",
      "display_name": "Python 3"
    }
  },
  "cells": [
    {
      "cell_type": "markdown",
      "metadata": {
        "id": "view-in-github",
        "colab_type": "text"
      },
      "source": [
        "<a href=\"https://colab.research.google.com/github/Juanesgil4/ejemplo-cruce/blob/master/Egresados.ipynb\" target=\"_parent\"><img src=\"https://colab.research.google.com/assets/colab-badge.svg\" alt=\"Open In Colab\"/></a>"
      ]
    },
    {
      "cell_type": "code",
      "metadata": {
        "id": "7WnBFafDOQUb",
        "colab_type": "code",
        "colab": {}
      },
      "source": [
        "import pandas as pd\n",
        "import matplotlib.pyplot as plt\n",
        "import matplotlib as mpl\n",
        "%matplotlib inline"
      ],
      "execution_count": 0,
      "outputs": []
    },
    {
      "cell_type": "code",
      "metadata": {
        "id": "0n76L4cocTfG",
        "colab_type": "code",
        "outputId": "c181cc1a-db39-4ab3-90d6-9ae9ccb00088",
        "colab": {
          "resources": {
            "http://localhost:8080/nbextensions/google.colab/files.js": {
              "data": "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",
              "ok": true,
              "headers": [
                [
                  "content-type",
                  "application/javascript"
                ]
              ],
              "status": 200,
              "status_text": ""
            }
          },
          "base_uri": "https://localhost:8080/",
          "height": 74
        }
      },
      "source": [
        "from google.colab import files\n",
        "uploaded = files.upload()"
      ],
      "execution_count": 5,
      "outputs": [
        {
          "output_type": "display_data",
          "data": {
            "text/html": [
              "\n",
              "     <input type=\"file\" id=\"files-7464cde7-c88a-4b8e-b538-49b2df00a1a8\" name=\"files[]\" multiple disabled />\n",
              "     <output id=\"result-7464cde7-c88a-4b8e-b538-49b2df00a1a8\">\n",
              "      Upload widget is only available when the cell has been executed in the\n",
              "      current browser session. Please rerun this cell to enable.\n",
              "      </output>\n",
              "      <script src=\"/nbextensions/google.colab/files.js\"></script> "
            ],
            "text/plain": [
              "<IPython.core.display.HTML object>"
            ]
          },
          "metadata": {
            "tags": []
          }
        },
        {
          "output_type": "stream",
          "text": [
            "Saving Egresados.csv to Egresados.csv\n"
          ],
          "name": "stdout"
        }
      ]
    },
    {
      "cell_type": "code",
      "metadata": {
        "id": "_KfK828n8YGZ",
        "colab_type": "code",
        "colab": {
          "base_uri": "https://localhost:8080/",
          "height": 214
        },
        "outputId": "56b3ea7a-9286-4a2c-d75d-b45567c9baac"
      },
      "source": [
        "!head egresados.csv"
      ],
      "execution_count": 10,
      "outputs": [
        {
          "output_type": "stream",
          "text": [
            "PERIODO_EGRESO,PERIODO_GRADO,COD_FACULTAD,FACULTAD,COD_UAB,UAB,COD_PROGRAMA,PROGRAMA,COD_PLAN,PLAN,NIVEL,NOMBRES,APELLIDO1,APELLIDO2,CONVOCATORIA,APERTURA,DOCUMENTO,HISTORIA_ACADEMICA,CORREO,FECHA_GRADUADO,PAPA_GRADUADO,PROMEDIO_GRADUADO,MATRICULAS_TOTALES\n",
            "2013-1S,2013-2S,3068,FACULTAD DE MINAS,3400,DEPARTAMENTO DE CIENCIAS DE LA COMPUTACIÓN Y DE LA DECISIÓN,101,ESPECIALIZACIÓN EN SISTEMAS,3591,ESPECIALIZACIÓN EN SISTEMAS,ESPECIALIZACION,Juan Carlos,Calle,Rojas,2012-2S,2012-2S,70569580,36,jccaller,12/9/2013,\"4,32\",\"4,32\",2.0\n",
            "2011-2S,2012-1S,3068,FACULTAD DE MINAS,3401,DEPARTAMENTO DE INGENIERÍA MECÁNICA,16,INGENIERÍA MECÁNICA,3524,INGENIERÍA MECÁNICA,PREGRADO,Diana Marcela,Munera,Mesa,2006-2S,2006-2S,1017166535,41,dmmuneram,29/3/2012,\"4,23\",\"4,23\",11.0\n",
            "2018-1S,,3068,FACULTAD DE MINAS,3400,DEPARTAMENTO DE CIENCIAS DE LA COMPUTACIÓN Y DE LA DECISIÓN,55,INGENIERÍA DE SISTEMAS E INFORMÁTICA,3520,INGENIERÍA DE SISTEMAS E INFORMÁTICA,PREGRADO,Juan David,Ortiz,Valiente,2011-2S,2011-2S,1017202476,1064,jdortizv,,\"3,80\",,14.0\n",
            "2018-2S,,3068,FACULTAD DE MINAS,3342,DEPARTAMENTO DE GEOCIENCIAS Y MEDIO AMBIENTE,48,INGENIERÍA AMBIENTAL,3527,INGENIERÍA AMBIENTAL,PREGRADO,Daniela,Munera,Medina,2011-1S,2011-1S,1040324088,93,damunerame,,\"3,60\",,16.0\n",
            "2010-1S,2010-2S,3068,FACULTAD DE MINAS,3395,DEPARTAMENTO DE ENERGÍA ELÉCTRICA Y AUTOMÁTICA,52,INGENIERÍA DE CONTROL,3517,INGENIERÍA DE CONTROL,PREGRADO,Natali,Jaramillo,Lopez,2005-1S,2005-1S,1037585324,83,njarami,8/10/2010,\"4,08\",\"4,08\",11.0\n",
            "2013-1S,2014-1S,3068,FACULTAD DE MINAS,3400,DEPARTAMENTO DE CIENCIAS DE LA COMPUTACIÓN Y DE LA DECISIÓN,187,MAESTRÍA EN INGENIERÍA - INGENIERÍA DE SISTEMAS,3597,MAESTRÍA EN INGENIERÍA - INGENIERÍA DE SISTEMAS,MAESTRIA,Diana Maria,Torres,Ricaurte,2011-2S,2011-2S,30081835,171,dimtorresri,11/4/2014,\"4,70\",\"4,70\",4.0\n",
            "2016-2S,,3068,FACULTAD DE MINAS,3399,DEPARTAMENTO DE PROCESOS Y ENERGÍA,270,DOCTORADO EN INGENIERÍA - SISTEMAS ENERGÉTICOS,3604,DOCTORADO EN INGENIERÍA - SISTEMAS ENERGÉTICOS,DOCTORADO,Carlos Andres,Gomez,Gutierrez,2010-1S,2010-1S,71265369,37,cagomez0,,\"4,62\",,12.0\n",
            "2010-2S,2010-2S,3068,FACULTAD DE MINAS,3337,DEPARTAMENTO DE INGENIERÍA DE LA ORGANIZACIÓN,63,INGENIERÍA ADMINISTRATIVA,3515,INGENIERÍA ADMINISTRATIVA,PREGRADO,Yuri Mariana,Cordoba,Casas,2005-1S,2005-1S,1036614692,136,ymcordobc,16/12/2010,\"3,91\",\"3,91\",12.0\n",
            "2010-1I,2010-2S,3068,FACULTAD DE MINAS,3337,DEPARTAMENTO DE INGENIERÍA DE LA ORGANIZACIÓN,49,INGENIERÍA INDUSTRIAL,3523,INGENIERÍA INDUSTRIAL,PREGRADO,Tatiana Maria,Cardona,Figueroa,2005-1S,2005-1S,1128272612,339,tmcardonf,8/10/2010,\"3,80\",\"3,80\",11.0\n"
          ],
          "name": "stdout"
        }
      ]
    },
    {
      "cell_type": "code",
      "metadata": {
        "id": "1AOhKBQN8dWn",
        "colab_type": "code",
        "colab": {
          "base_uri": "https://localhost:8080/",
          "height": 501
        },
        "outputId": "37e0443e-b059-453b-a2b2-4d0560078318"
      },
      "source": [
        "#import io\n",
        "df = pd.read_csv('Egresados.csv',encoding='utf-8')\n",
        "df.head()\n",
        "# Dataset is now stored in a Pandas Dataframe"
      ],
      "execution_count": 12,
      "outputs": [
        {
          "output_type": "execute_result",
          "data": {
            "text/html": [
              "<div>\n",
              "<style scoped>\n",
              "    .dataframe tbody tr th:only-of-type {\n",
              "        vertical-align: middle;\n",
              "    }\n",
              "\n",
              "    .dataframe tbody tr th {\n",
              "        vertical-align: top;\n",
              "    }\n",
              "\n",
              "    .dataframe thead th {\n",
              "        text-align: right;\n",
              "    }\n",
              "</style>\n",
              "<table border=\"1\" class=\"dataframe\">\n",
              "  <thead>\n",
              "    <tr style=\"text-align: right;\">\n",
              "      <th></th>\n",
              "      <th>PERIODO_EGRESO</th>\n",
              "      <th>PERIODO_GRADO</th>\n",
              "      <th>COD_FACULTAD</th>\n",
              "      <th>FACULTAD</th>\n",
              "      <th>COD_UAB</th>\n",
              "      <th>UAB</th>\n",
              "      <th>COD_PROGRAMA</th>\n",
              "      <th>PROGRAMA</th>\n",
              "      <th>COD_PLAN</th>\n",
              "      <th>PLAN</th>\n",
              "      <th>NIVEL</th>\n",
              "      <th>NOMBRES</th>\n",
              "      <th>APELLIDO1</th>\n",
              "      <th>APELLIDO2</th>\n",
              "      <th>CONVOCATORIA</th>\n",
              "      <th>APERTURA</th>\n",
              "      <th>DOCUMENTO</th>\n",
              "      <th>HISTORIA_ACADEMICA</th>\n",
              "      <th>CORREO</th>\n",
              "      <th>FECHA_GRADUADO</th>\n",
              "      <th>PAPA_GRADUADO</th>\n",
              "      <th>PROMEDIO_GRADUADO</th>\n",
              "      <th>MATRICULAS_TOTALES</th>\n",
              "    </tr>\n",
              "  </thead>\n",
              "  <tbody>\n",
              "    <tr>\n",
              "      <th>0</th>\n",
              "      <td>2013-1S</td>\n",
              "      <td>2013-2S</td>\n",
              "      <td>3068</td>\n",
              "      <td>FACULTAD DE MINAS</td>\n",
              "      <td>3400</td>\n",
              "      <td>DEPARTAMENTO DE CIENCIAS DE LA COMPUTACIÓN Y D...</td>\n",
              "      <td>101</td>\n",
              "      <td>ESPECIALIZACIÓN EN SISTEMAS</td>\n",
              "      <td>3591</td>\n",
              "      <td>ESPECIALIZACIÓN EN SISTEMAS</td>\n",
              "      <td>ESPECIALIZACION</td>\n",
              "      <td>Juan Carlos</td>\n",
              "      <td>Calle</td>\n",
              "      <td>Rojas</td>\n",
              "      <td>2012-2S</td>\n",
              "      <td>2012-2S</td>\n",
              "      <td>70569580</td>\n",
              "      <td>36</td>\n",
              "      <td>jccaller</td>\n",
              "      <td>12/9/2013</td>\n",
              "      <td>4,32</td>\n",
              "      <td>4,32</td>\n",
              "      <td>2.0</td>\n",
              "    </tr>\n",
              "    <tr>\n",
              "      <th>1</th>\n",
              "      <td>2011-2S</td>\n",
              "      <td>2012-1S</td>\n",
              "      <td>3068</td>\n",
              "      <td>FACULTAD DE MINAS</td>\n",
              "      <td>3401</td>\n",
              "      <td>DEPARTAMENTO DE INGENIERÍA MECÁNICA</td>\n",
              "      <td>16</td>\n",
              "      <td>INGENIERÍA MECÁNICA</td>\n",
              "      <td>3524</td>\n",
              "      <td>INGENIERÍA MECÁNICA</td>\n",
              "      <td>PREGRADO</td>\n",
              "      <td>Diana Marcela</td>\n",
              "      <td>Munera</td>\n",
              "      <td>Mesa</td>\n",
              "      <td>2006-2S</td>\n",
              "      <td>2006-2S</td>\n",
              "      <td>1017166535</td>\n",
              "      <td>41</td>\n",
              "      <td>dmmuneram</td>\n",
              "      <td>29/3/2012</td>\n",
              "      <td>4,23</td>\n",
              "      <td>4,23</td>\n",
              "      <td>11.0</td>\n",
              "    </tr>\n",
              "    <tr>\n",
              "      <th>2</th>\n",
              "      <td>2018-1S</td>\n",
              "      <td>NaN</td>\n",
              "      <td>3068</td>\n",
              "      <td>FACULTAD DE MINAS</td>\n",
              "      <td>3400</td>\n",
              "      <td>DEPARTAMENTO DE CIENCIAS DE LA COMPUTACIÓN Y D...</td>\n",
              "      <td>55</td>\n",
              "      <td>INGENIERÍA DE SISTEMAS E INFORMÁTICA</td>\n",
              "      <td>3520</td>\n",
              "      <td>INGENIERÍA DE SISTEMAS E INFORMÁTICA</td>\n",
              "      <td>PREGRADO</td>\n",
              "      <td>Juan David</td>\n",
              "      <td>Ortiz</td>\n",
              "      <td>Valiente</td>\n",
              "      <td>2011-2S</td>\n",
              "      <td>2011-2S</td>\n",
              "      <td>1017202476</td>\n",
              "      <td>1064</td>\n",
              "      <td>jdortizv</td>\n",
              "      <td>NaN</td>\n",
              "      <td>3,80</td>\n",
              "      <td>NaN</td>\n",
              "      <td>14.0</td>\n",
              "    </tr>\n",
              "    <tr>\n",
              "      <th>3</th>\n",
              "      <td>2018-2S</td>\n",
              "      <td>NaN</td>\n",
              "      <td>3068</td>\n",
              "      <td>FACULTAD DE MINAS</td>\n",
              "      <td>3342</td>\n",
              "      <td>DEPARTAMENTO DE GEOCIENCIAS Y MEDIO AMBIENTE</td>\n",
              "      <td>48</td>\n",
              "      <td>INGENIERÍA AMBIENTAL</td>\n",
              "      <td>3527</td>\n",
              "      <td>INGENIERÍA AMBIENTAL</td>\n",
              "      <td>PREGRADO</td>\n",
              "      <td>Daniela</td>\n",
              "      <td>Munera</td>\n",
              "      <td>Medina</td>\n",
              "      <td>2011-1S</td>\n",
              "      <td>2011-1S</td>\n",
              "      <td>1040324088</td>\n",
              "      <td>93</td>\n",
              "      <td>damunerame</td>\n",
              "      <td>NaN</td>\n",
              "      <td>3,60</td>\n",
              "      <td>NaN</td>\n",
              "      <td>16.0</td>\n",
              "    </tr>\n",
              "    <tr>\n",
              "      <th>4</th>\n",
              "      <td>2010-1S</td>\n",
              "      <td>2010-2S</td>\n",
              "      <td>3068</td>\n",
              "      <td>FACULTAD DE MINAS</td>\n",
              "      <td>3395</td>\n",
              "      <td>DEPARTAMENTO DE ENERGÍA ELÉCTRICA Y AUTOMÁTICA</td>\n",
              "      <td>52</td>\n",
              "      <td>INGENIERÍA DE CONTROL</td>\n",
              "      <td>3517</td>\n",
              "      <td>INGENIERÍA DE CONTROL</td>\n",
              "      <td>PREGRADO</td>\n",
              "      <td>Natali</td>\n",
              "      <td>Jaramillo</td>\n",
              "      <td>Lopez</td>\n",
              "      <td>2005-1S</td>\n",
              "      <td>2005-1S</td>\n",
              "      <td>1037585324</td>\n",
              "      <td>83</td>\n",
              "      <td>njarami</td>\n",
              "      <td>8/10/2010</td>\n",
              "      <td>4,08</td>\n",
              "      <td>4,08</td>\n",
              "      <td>11.0</td>\n",
              "    </tr>\n",
              "  </tbody>\n",
              "</table>\n",
              "</div>"
            ],
            "text/plain": [
              "  PERIODO_EGRESO PERIODO_GRADO  ...  PROMEDIO_GRADUADO MATRICULAS_TOTALES\n",
              "0        2013-1S       2013-2S  ...               4,32                2.0\n",
              "1        2011-2S       2012-1S  ...               4,23               11.0\n",
              "2        2018-1S           NaN  ...                NaN               14.0\n",
              "3        2018-2S           NaN  ...                NaN               16.0\n",
              "4        2010-1S       2010-2S  ...               4,08               11.0\n",
              "\n",
              "[5 rows x 23 columns]"
            ]
          },
          "metadata": {
            "tags": []
          },
          "execution_count": 12
        }
      ]
    },
    {
      "cell_type": "code",
      "metadata": {
        "id": "bYABanpv8NwM",
        "colab_type": "code",
        "colab": {
          "base_uri": "https://localhost:8080/",
          "height": 141
        },
        "outputId": "0a80aa70-28cf-4b45-a6d9-fb2bb76861e7"
      },
      "source": [
        "df.columns"
      ],
      "execution_count": 13,
      "outputs": [
        {
          "output_type": "execute_result",
          "data": {
            "text/plain": [
              "Index(['PERIODO_EGRESO', 'PERIODO_GRADO', 'COD_FACULTAD', 'FACULTAD',\n",
              "       'COD_UAB', 'UAB', 'COD_PROGRAMA', 'PROGRAMA', 'COD_PLAN', 'PLAN',\n",
              "       'NIVEL', 'NOMBRES', 'APELLIDO1', 'APELLIDO2', 'CONVOCATORIA',\n",
              "       'APERTURA', 'DOCUMENTO', 'HISTORIA_ACADEMICA', 'CORREO',\n",
              "       'FECHA_GRADUADO', 'PAPA_GRADUADO', 'PROMEDIO_GRADUADO',\n",
              "       'MATRICULAS_TOTALES'],\n",
              "      dtype='object')"
            ]
          },
          "metadata": {
            "tags": []
          },
          "execution_count": 13
        }
      ]
    },
    {
      "cell_type": "code",
      "metadata": {
        "id": "EqQu3ck5-RNw",
        "colab_type": "code",
        "colab": {
          "base_uri": "https://localhost:8080/",
          "height": 727
        },
        "outputId": "20d614cd-af74-421f-dbbd-f82c95e32749"
      },
      "source": [
        "programas = df.PROGRAMA.unique()\n",
        "programas"
      ],
      "execution_count": 19,
      "outputs": [
        {
          "output_type": "execute_result",
          "data": {
            "text/plain": [
              "array(['ESPECIALIZACIÓN EN SISTEMAS', 'INGENIERÍA MECÁNICA',\n",
              "       'INGENIERÍA DE SISTEMAS E INFORMÁTICA', 'INGENIERÍA AMBIENTAL',\n",
              "       'INGENIERÍA DE CONTROL',\n",
              "       'MAESTRÍA EN INGENIERÍA - INGENIERÍA DE SISTEMAS',\n",
              "       'DOCTORADO EN INGENIERÍA - SISTEMAS ENERGÉTICOS',\n",
              "       'INGENIERÍA ADMINISTRATIVA', 'INGENIERÍA INDUSTRIAL',\n",
              "       'MAESTRÍA EN INGENIERÍA - MATERIALES Y PROCESOS',\n",
              "       'INGENIERÍA CIVIL', 'ESPECIALIZACIÓN EN ESTRUCTURAS',\n",
              "       'DOCTORADO EN INGENIERÍA - CIENCIA Y TECNOLOGÍA DE MATERIALES',\n",
              "       'MAESTRÍA EN MEDIO AMBIENTE Y DESARROLLO', 'INGENIERÍA GEOLÓGICA',\n",
              "       'ESPECIALIZACIÓN EN INGENIERÍA FINANCIERA',\n",
              "       'MAESTRÍA EN INGENIERÍA - RECURSOS HIDRÁULICOS',\n",
              "       'INGENIERÍA QUÍMICA', 'INGENIERÍA DE PETRÓLEOS',\n",
              "       'INGENIERÍA DE MINAS Y METALURGIA', 'ESPECIALIZACIÓN EN ANALÍTICA',\n",
              "       'ESPECIALIZACIÓN EN GESTIÓN AMBIENTAL',\n",
              "       'ESPECIALIZACIÓN EN GESTIÓN EMPRESARIAL',\n",
              "       'ESPECIALIZACIÓN EN MERCADOS DE ENERGÍA',\n",
              "       'ESPECIALIZACIÓN EN VÍAS Y TRANSPORTE',\n",
              "       'ESPECIALIZACIÓN EN APROVECHAMIENTO DE RECURSOS HIDRÁULICOS',\n",
              "       'MAESTRÍA EN INGENIERÍA ADMINISTRATIVA',\n",
              "       'MAESTRÍA EN INGENIERÍA - GEOTECNIA',\n",
              "       'MAESTRÍA EN INGENIERÍA - INGENIERÍA ELÉCTRICA',\n",
              "       'DOCTORADO EN INGENIERÍA - SISTEMAS',\n",
              "       'MAESTRÍA EN INGENIERÍA - INGENIERÍA QUÍMICA',\n",
              "       'INGENIERÍA ELÉCTRICA',\n",
              "       'DOCTORADO EN INGENIERÍA - RECURSOS HIDRÁULICOS',\n",
              "       'ESPECIALIZACIÓN EN MANTENIMIENTO',\n",
              "       'ESPECIALIZACIÓN EN INGENIERÍA GEOTECNIA',\n",
              "       'MAESTRÍA EN INGENIERÍA - RECURSOS MINERALES',\n",
              "       'MAESTRÍA EN INGENIERÍA - INGENIERÍA DE PETRÓLEOS',\n",
              "       'ESPECIALIZACIÓN EN INGENIERÍA DE SOFTWARE',\n",
              "       'MAESTRÍA EN INGENIERÍA - INFRAESTRUCTURA Y SISTEMAS DE TRANSPORTE',\n",
              "       'MAESTRÍA EN INGENIERÍA INDUSTRIAL',\n",
              "       'ESPECIALIZACIÓN EN INGENIERÍA DE MATERIALES Y PROCESOS',\n",
              "       'MAESTRÍA EN INGENIERÍA MECÁNICA',\n",
              "       'MAESTRÍA EN INGENIERÍA - SISTEMAS ENERGÉTICOS',\n",
              "       'DOCTORADO EN INGENIERÍA - INDUSTRIA Y ORGANIZACIONES',\n",
              "       'MAESTRÍA EN INGENIERÍA - AUTOMATIZACIÓN INDUSTRIAL',\n",
              "       'ESPECIALIZACIÓN EN RECURSOS MINERALES',\n",
              "       'DOCTORADO EN CIENCIAS DEL MAR'], dtype=object)"
            ]
          },
          "metadata": {
            "tags": []
          },
          "execution_count": 19
        }
      ]
    },
    {
      "cell_type": "code",
      "metadata": {
        "id": "hnlQ96-a-_tZ",
        "colab_type": "code",
        "colab": {
          "base_uri": "https://localhost:8080/",
          "height": 668
        },
        "outputId": "312dbd55-6246-4fa1-9282-fda82bc44ad3"
      },
      "source": [
        "plt.figure(figsize=(21, 8))\n",
        "\n",
        "for prog in programas:\n",
        "  df_prog = df[df['PROGRAMA']==prog]\n",
        "  conteo = (df_prog.groupby('APERTURA').count())[['PERIODO_EGRESO']]\n",
        "  conteo.plot.bar()\n",
        "  print(prog)\n",
        "  print(conteo)\n",
        "  plt.savefig(prog+\".png\")\n",
        "  #plt.close()\n",
        "  break"
      ],
      "execution_count": 39,
      "outputs": [
        {
          "output_type": "stream",
          "text": [
            "ESPECIALIZACIÓN EN SISTEMAS\n",
            "          PERIODO_EGRESO\n",
            "APERTURA                \n",
            "2003-1S                1\n",
            "2006-1S                1\n",
            "2009-1S                3\n",
            "2009-2S                4\n",
            "2010-1S                1\n",
            "2011-1S                5\n",
            "2011-2S                3\n",
            "2012-1S                3\n",
            "2012-2S                4\n",
            "2013-1S                4\n",
            "2013-2S                5\n",
            "2014-1S                3\n",
            "2014-2S                9\n",
            "2015-1S                4\n",
            "2015-2S                6\n",
            "2016-1S                3\n"
          ],
          "name": "stdout"
        },
        {
          "output_type": "display_data",
          "data": {
            "text/plain": [
              "<Figure size 1512x576 with 0 Axes>"
            ]
          },
          "metadata": {
            "tags": []
          }
        },
        {
          "output_type": "display_data",
          "data": {
            "image/png": "[encoded data removed]",
            "text/plain": [
              "<Figure size 432x288 with 1 Axes>"
            ]
          },
          "metadata": {
            "tags": []
          }
        }
      ]
    },
    {
      "cell_type": "code",
      "metadata": {
        "id": "x5KU82KuCnqb",
        "colab_type": "code",
        "colab": {
          "base_uri": "https://localhost:8080/",
          "height": 34
        },
        "outputId": "adb2d2f4-5115-4764-c65a-da0265673579"
      },
      "source": [
        "!ls"
      ],
      "execution_count": 37,
      "outputs": [
        {
          "output_type": "stream",
          "text": [
            " egresados.csv\t Egresados.csv\t'ESPECIALIZACIÓN EN SISTEMAS.png'   sample_data\n"
          ],
          "name": "stdout"
        }
      ]
    },
    {
      "cell_type": "code",
      "metadata": {
        "id": "0LMTbZNQ86Pw",
        "colab_type": "code",
        "colab": {
          "base_uri": "https://localhost:8080/",
          "height": 1936
        },
        "outputId": "4bf8ed61-47f7-41bd-8ce1-e54d3a96b7f7"
      },
      "source": [
        "(df.groupby(['PROGRAMA','APERTURA']).count())[['PERIODO_EGRESO']]"
      ],
      "execution_count": 18,
      "outputs": [
        {
          "output_type": "execute_result",
          "data": {
            "text/html": [
              "<div>\n",
              "<style scoped>\n",
              "    .dataframe tbody tr th:only-of-type {\n",
              "        vertical-align: middle;\n",
              "    }\n",
              "\n",
              "    .dataframe tbody tr th {\n",
              "        vertical-align: top;\n",
              "    }\n",
              "\n",
              "    .dataframe thead th {\n",
              "        text-align: right;\n",
              "    }\n",
              "</style>\n",
              "<table border=\"1\" class=\"dataframe\">\n",
              "  <thead>\n",
              "    <tr style=\"text-align: right;\">\n",
              "      <th></th>\n",
              "      <th></th>\n",
              "      <th>PERIODO_EGRESO</th>\n",
              "    </tr>\n",
              "    <tr>\n",
              "      <th>PROGRAMA</th>\n",
              "      <th>APERTURA</th>\n",
              "      <th></th>\n",
              "    </tr>\n",
              "  </thead>\n",
              "  <tbody>\n",
              "    <tr>\n",
              "      <th>DOCTORADO EN CIENCIAS DEL MAR</th>\n",
              "      <th>2011-1S</th>\n",
              "      <td>3</td>\n",
              "    </tr>\n",
              "    <tr>\n",
              "      <th rowspan=\"15\" valign=\"top\">DOCTORADO EN INGENIERÍA - CIENCIA Y TECNOLOGÍA DE MATERIALES</th>\n",
              "      <th>2006-2S</th>\n",
              "      <td>8</td>\n",
              "    </tr>\n",
              "    <tr>\n",
              "      <th>2007-1S</th>\n",
              "      <td>5</td>\n",
              "    </tr>\n",
              "    <tr>\n",
              "      <th>2007-2S</th>\n",
              "      <td>1</td>\n",
              "    </tr>\n",
              "    <tr>\n",
              "      <th>2008-2S</th>\n",
              "      <td>5</td>\n",
              "    </tr>\n",
              "    <tr>\n",
              "      <th>2009-1S</th>\n",
              "      <td>3</td>\n",
              "    </tr>\n",
              "    <tr>\n",
              "      <th>2009-2S</th>\n",
              "      <td>7</td>\n",
              "    </tr>\n",
              "    <tr>\n",
              "      <th>2010-1S</th>\n",
              "      <td>2</td>\n",
              "    </tr>\n",
              "    <tr>\n",
              "      <th>2010-2S</th>\n",
              "      <td>1</td>\n",
              "    </tr>\n",
              "    <tr>\n",
              "      <th>2011-2S</th>\n",
              "      <td>1</td>\n",
              "    </tr>\n",
              "    <tr>\n",
              "      <th>2012-1S</th>\n",
              "      <td>3</td>\n",
              "    </tr>\n",
              "    <tr>\n",
              "      <th>2012-2S</th>\n",
              "      <td>2</td>\n",
              "    </tr>\n",
              "    <tr>\n",
              "      <th>2013-1S</th>\n",
              "      <td>2</td>\n",
              "    </tr>\n",
              "    <tr>\n",
              "      <th>2014-1S</th>\n",
              "      <td>4</td>\n",
              "    </tr>\n",
              "    <tr>\n",
              "      <th>2014-2S</th>\n",
              "      <td>1</td>\n",
              "    </tr>\n",
              "    <tr>\n",
              "      <th>2015-1S</th>\n",
              "      <td>1</td>\n",
              "    </tr>\n",
              "    <tr>\n",
              "      <th rowspan=\"8\" valign=\"top\">DOCTORADO EN INGENIERÍA - INDUSTRIA Y ORGANIZACIONES</th>\n",
              "      <th>2010-2S</th>\n",
              "      <td>4</td>\n",
              "    </tr>\n",
              "    <tr>\n",
              "      <th>2011-1S</th>\n",
              "      <td>2</td>\n",
              "    </tr>\n",
              "    <tr>\n",
              "      <th>2011-2S</th>\n",
              "      <td>6</td>\n",
              "    </tr>\n",
              "    <tr>\n",
              "      <th>2012-1S</th>\n",
              "      <td>4</td>\n",
              "    </tr>\n",
              "    <tr>\n",
              "      <th>2013-1S</th>\n",
              "      <td>4</td>\n",
              "    </tr>\n",
              "    <tr>\n",
              "      <th>2013-2S</th>\n",
              "      <td>2</td>\n",
              "    </tr>\n",
              "    <tr>\n",
              "      <th>2014-1S</th>\n",
              "      <td>1</td>\n",
              "    </tr>\n",
              "    <tr>\n",
              "      <th>2016-1S</th>\n",
              "      <td>1</td>\n",
              "    </tr>\n",
              "    <tr>\n",
              "      <th rowspan=\"6\" valign=\"top\">DOCTORADO EN INGENIERÍA - RECURSOS HIDRÁULICOS</th>\n",
              "      <th>2003-2S</th>\n",
              "      <td>1</td>\n",
              "    </tr>\n",
              "    <tr>\n",
              "      <th>2006-2S</th>\n",
              "      <td>3</td>\n",
              "    </tr>\n",
              "    <tr>\n",
              "      <th>2007-2S</th>\n",
              "      <td>1</td>\n",
              "    </tr>\n",
              "    <tr>\n",
              "      <th>2008-1S</th>\n",
              "      <td>1</td>\n",
              "    </tr>\n",
              "    <tr>\n",
              "      <th>2008-2S</th>\n",
              "      <td>1</td>\n",
              "    </tr>\n",
              "    <tr>\n",
              "      <th>2009-2S</th>\n",
              "      <td>1</td>\n",
              "    </tr>\n",
              "    <tr>\n",
              "      <th>...</th>\n",
              "      <th>...</th>\n",
              "      <td>...</td>\n",
              "    </tr>\n",
              "    <tr>\n",
              "      <th rowspan=\"9\" valign=\"top\">MAESTRÍA EN INGENIERÍA MECÁNICA</th>\n",
              "      <th>2011-2S</th>\n",
              "      <td>3</td>\n",
              "    </tr>\n",
              "    <tr>\n",
              "      <th>2012-2S</th>\n",
              "      <td>3</td>\n",
              "    </tr>\n",
              "    <tr>\n",
              "      <th>2013-1S</th>\n",
              "      <td>2</td>\n",
              "    </tr>\n",
              "    <tr>\n",
              "      <th>2013-2S</th>\n",
              "      <td>1</td>\n",
              "    </tr>\n",
              "    <tr>\n",
              "      <th>2014-2S</th>\n",
              "      <td>1</td>\n",
              "    </tr>\n",
              "    <tr>\n",
              "      <th>2015-1S</th>\n",
              "      <td>2</td>\n",
              "    </tr>\n",
              "    <tr>\n",
              "      <th>2015-2S</th>\n",
              "      <td>2</td>\n",
              "    </tr>\n",
              "    <tr>\n",
              "      <th>2016-2S</th>\n",
              "      <td>1</td>\n",
              "    </tr>\n",
              "    <tr>\n",
              "      <th>2017-1S</th>\n",
              "      <td>2</td>\n",
              "    </tr>\n",
              "    <tr>\n",
              "      <th rowspan=\"21\" valign=\"top\">MAESTRÍA EN MEDIO AMBIENTE Y DESARROLLO</th>\n",
              "      <th>2005-1S</th>\n",
              "      <td>1</td>\n",
              "    </tr>\n",
              "    <tr>\n",
              "      <th>2006-1S</th>\n",
              "      <td>3</td>\n",
              "    </tr>\n",
              "    <tr>\n",
              "      <th>2007-1S</th>\n",
              "      <td>5</td>\n",
              "    </tr>\n",
              "    <tr>\n",
              "      <th>2008-1S</th>\n",
              "      <td>10</td>\n",
              "    </tr>\n",
              "    <tr>\n",
              "      <th>2008-2S</th>\n",
              "      <td>4</td>\n",
              "    </tr>\n",
              "    <tr>\n",
              "      <th>2009-1S</th>\n",
              "      <td>1</td>\n",
              "    </tr>\n",
              "    <tr>\n",
              "      <th>2009-2S</th>\n",
              "      <td>5</td>\n",
              "    </tr>\n",
              "    <tr>\n",
              "      <th>2010-1S</th>\n",
              "      <td>8</td>\n",
              "    </tr>\n",
              "    <tr>\n",
              "      <th>2010-2S</th>\n",
              "      <td>5</td>\n",
              "    </tr>\n",
              "    <tr>\n",
              "      <th>2011-1S</th>\n",
              "      <td>9</td>\n",
              "    </tr>\n",
              "    <tr>\n",
              "      <th>2011-2S</th>\n",
              "      <td>7</td>\n",
              "    </tr>\n",
              "    <tr>\n",
              "      <th>2012-1S</th>\n",
              "      <td>5</td>\n",
              "    </tr>\n",
              "    <tr>\n",
              "      <th>2012-2S</th>\n",
              "      <td>16</td>\n",
              "    </tr>\n",
              "    <tr>\n",
              "      <th>2013-1S</th>\n",
              "      <td>11</td>\n",
              "    </tr>\n",
              "    <tr>\n",
              "      <th>2013-2S</th>\n",
              "      <td>8</td>\n",
              "    </tr>\n",
              "    <tr>\n",
              "      <th>2014-1S</th>\n",
              "      <td>9</td>\n",
              "    </tr>\n",
              "    <tr>\n",
              "      <th>2014-2S</th>\n",
              "      <td>9</td>\n",
              "    </tr>\n",
              "    <tr>\n",
              "      <th>2015-1S</th>\n",
              "      <td>7</td>\n",
              "    </tr>\n",
              "    <tr>\n",
              "      <th>2015-2S</th>\n",
              "      <td>8</td>\n",
              "    </tr>\n",
              "    <tr>\n",
              "      <th>2016-1S</th>\n",
              "      <td>5</td>\n",
              "    </tr>\n",
              "    <tr>\n",
              "      <th>2016-2S</th>\n",
              "      <td>4</td>\n",
              "    </tr>\n",
              "  </tbody>\n",
              "</table>\n",
              "<p>848 rows × 1 columns</p>\n",
              "</div>"
            ],
            "text/plain": [
              "                                                             PERIODO_EGRESO\n",
              "PROGRAMA                                           APERTURA                \n",
              "DOCTORADO EN CIENCIAS DEL MAR                      2011-1S                3\n",
              "DOCTORADO EN INGENIERÍA - CIENCIA Y TECNOLOGÍA ... 2006-2S                8\n",
              "                                                   2007-1S                5\n",
              "                                                   2007-2S                1\n",
              "                                                   2008-2S                5\n",
              "                                                   2009-1S                3\n",
              "                                                   2009-2S                7\n",
              "                                                   2010-1S                2\n",
              "                                                   2010-2S                1\n",
              "                                                   2011-2S                1\n",
              "                                                   2012-1S                3\n",
              "                                                   2012-2S                2\n",
              "                                                   2013-1S                2\n",
              "                                                   2014-1S                4\n",
              "                                                   2014-2S                1\n",
              "                                                   2015-1S                1\n",
              "DOCTORADO EN INGENIERÍA - INDUSTRIA Y ORGANIZAC... 2010-2S                4\n",
              "                                                   2011-1S                2\n",
              "                                                   2011-2S                6\n",
              "                                                   2012-1S                4\n",
              "                                                   2013-1S                4\n",
              "                                                   2013-2S                2\n",
              "                                                   2014-1S                1\n",
              "                                                   2016-1S                1\n",
              "DOCTORADO EN INGENIERÍA - RECURSOS HIDRÁULICOS     2003-2S                1\n",
              "                                                   2006-2S                3\n",
              "                                                   2007-2S                1\n",
              "                                                   2008-1S                1\n",
              "                                                   2008-2S                1\n",
              "                                                   2009-2S                1\n",
              "...                                                                     ...\n",
              "MAESTRÍA EN INGENIERÍA MECÁNICA                    2011-2S                3\n",
              "                                                   2012-2S                3\n",
              "                                                   2013-1S                2\n",
              "                                                   2013-2S                1\n",
              "                                                   2014-2S                1\n",
              "                                                   2015-1S                2\n",
              "                                                   2015-2S                2\n",
              "                                                   2016-2S                1\n",
              "                                                   2017-1S                2\n",
              "MAESTRÍA EN MEDIO AMBIENTE Y DESARROLLO            2005-1S                1\n",
              "                                                   2006-1S                3\n",
              "                                                   2007-1S                5\n",
              "                                                   2008-1S               10\n",
              "                                                   2008-2S                4\n",
              "                                                   2009-1S                1\n",
              "                                                   2009-2S                5\n",
              "                                                   2010-1S                8\n",
              "                                                   2010-2S                5\n",
              "                                                   2011-1S                9\n",
              "                                                   2011-2S                7\n",
              "                                                   2012-1S                5\n",
              "                                                   2012-2S               16\n",
              "                                                   2013-1S               11\n",
              "                                                   2013-2S                8\n",
              "                                                   2014-1S                9\n",
              "                                                   2014-2S                9\n",
              "                                                   2015-1S                7\n",
              "                                                   2015-2S                8\n",
              "                                                   2016-1S                5\n",
              "                                                   2016-2S                4\n",
              "\n",
              "[848 rows x 1 columns]"
            ]
          },
          "metadata": {
            "tags": []
          },
          "execution_count": 18
        }
      ]
    },
    {
      "cell_type": "code",
      "metadata": {
        "id": "Ld6TlTqF-xgx",
        "colab_type": "code",
        "colab": {}
      },
      "source": [
        ""
      ],
      "execution_count": 0,
      "outputs": []
    }
  ]
}